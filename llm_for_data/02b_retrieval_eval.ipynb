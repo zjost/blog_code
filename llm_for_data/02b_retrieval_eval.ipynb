{
 "cells": [
  {
   "cell_type": "code",
   "execution_count": 5,
   "metadata": {},
   "outputs": [],
   "source": [
    "import pandas as pd"
   ]
  },
  {
   "cell_type": "code",
   "execution_count": null,
   "metadata": {},
   "outputs": [],
   "source": [
    "def load_and_prepare_eval_data(chunk_data_fp: str, eval_data_fp: str) -> pd.DataFrame:\n",
    "\n",
    "    df_chunks = pd.read_parquet(chunk_data_fp)\n",
    "\n",
    "    df_tmp = pd.read_json(eval_data_fp, lines=True)\n",
    "    df_tmp_exploded = df_tmp.explode('qa_pairs')\n",
    "    # expand and add question-answer columns\n",
    "    df_eval = pd.concat([\n",
    "        df_tmp_exploded.drop(columns=['qa_pairs']),\n",
    "        df_tmp_exploded['qa_pairs'].apply(pd.Series),\n",
    "    ], axis=1)\n",
    "    # expand and add metadata columns, and merge original data\n",
    "    df_eval = pd.concat([\n",
    "        df_eval.drop(columns=['metadata']),\n",
    "        df_eval['metadata'].apply(pd.Series),\n",
    "    ], axis=1).merge(\n",
    "        df_chunks[['id', 'doc_id', 'text', 'cluster_tsne', 'metadata']],\n",
    "        on='id',\n",
    "    )\n",
    "    return df_eval"
   ]
  },
  {
   "cell_type": "code",
   "execution_count": 7,
   "metadata": {},
   "outputs": [
    {
     "data": {
      "text/html": [
       "<div>\n",
       "<style scoped>\n",
       "    .dataframe tbody tr th:only-of-type {\n",
       "        vertical-align: middle;\n",
       "    }\n",
       "\n",
       "    .dataframe tbody tr th {\n",
       "        vertical-align: top;\n",
       "    }\n",
       "\n",
       "    .dataframe thead th {\n",
       "        text-align: right;\n",
       "    }\n",
       "</style>\n",
       "<table border=\"1\" class=\"dataframe\">\n",
       "  <thead>\n",
       "    <tr style=\"text-align: right;\">\n",
       "      <th></th>\n",
       "      <th>idx</th>\n",
       "      <th>id</th>\n",
       "      <th>question</th>\n",
       "      <th>answer</th>\n",
       "      <th>question_type</th>\n",
       "      <th>difficulty</th>\n",
       "      <th>required_context</th>\n",
       "      <th>reasoning</th>\n",
       "      <th>q_a_quality</th>\n",
       "      <th>doc_id</th>\n",
       "      <th>text</th>\n",
       "      <th>cluster_tsne</th>\n",
       "      <th>metadata</th>\n",
       "    </tr>\n",
       "  </thead>\n",
       "  <tbody>\n",
       "    <tr>\n",
       "      <th>0</th>\n",
       "      <td>783</td>\n",
       "      <td>871e39f3-ad80-413d-9353-93b39da8adf5</td>\n",
       "      <td>What is the primary function of a data connect...</td>\n",
       "      <td>A data connector (or 'Reader') ingests data fr...</td>\n",
       "      <td>factual</td>\n",
       "      <td>easy</td>\n",
       "      <td>basic understanding of terminology</td>\n",
       "      <td>This question directly asks for the role of a ...</td>\n",
       "      <td>good</td>\n",
       "      <td>aa4c9403-c960-442a-aca3-31ad8ae64f6e</td>\n",
       "      <td>## Concept\\n\\nA data connector (aka `Reader`) ...</td>\n",
       "      <td>0</td>\n",
       "      <td>{'_node_content': '{\"id_\": \"871e39f3-ad80-413d...</td>\n",
       "    </tr>\n",
       "    <tr>\n",
       "      <th>1</th>\n",
       "      <td>783</td>\n",
       "      <td>871e39f3-ad80-413d-9353-93b39da8adf5</td>\n",
       "      <td>According to the document, what are the typica...</td>\n",
       "      <td>After data ingestion, you can build an Index, ...</td>\n",
       "      <td>inferential</td>\n",
       "      <td>medium</td>\n",
       "      <td>understanding of workflow</td>\n",
       "      <td>This question requires the user to understand ...</td>\n",
       "      <td>good</td>\n",
       "      <td>aa4c9403-c960-442a-aca3-31ad8ae64f6e</td>\n",
       "      <td>## Concept\\n\\nA data connector (aka `Reader`) ...</td>\n",
       "      <td>0</td>\n",
       "      <td>{'_node_content': '{\"id_\": \"871e39f3-ad80-413d...</td>\n",
       "    </tr>\n",
       "    <tr>\n",
       "      <th>2</th>\n",
       "      <td>783</td>\n",
       "      <td>871e39f3-ad80-413d-9353-93b39da8adf5</td>\n",
       "      <td>Explain the overall purpose of using data conn...</td>\n",
       "      <td>The purpose is to take data from various sourc...</td>\n",
       "      <td>analytical</td>\n",
       "      <td>hard</td>\n",
       "      <td>understanding of overall system architecture &amp;...</td>\n",
       "      <td>This requires the user to synthesize the infor...</td>\n",
       "      <td>good</td>\n",
       "      <td>aa4c9403-c960-442a-aca3-31ad8ae64f6e</td>\n",
       "      <td>## Concept\\n\\nA data connector (aka `Reader`) ...</td>\n",
       "      <td>0</td>\n",
       "      <td>{'_node_content': '{\"id_\": \"871e39f3-ad80-413d...</td>\n",
       "    </tr>\n",
       "    <tr>\n",
       "      <th>3</th>\n",
       "      <td>851</td>\n",
       "      <td>45e0ab38-6280-4862-be9f-b57ce7f96492</td>\n",
       "      <td>What is the primary subject matter described i...</td>\n",
       "      <td>Relation-Based Node Parsers</td>\n",
       "      <td>factual</td>\n",
       "      <td>easy</td>\n",
       "      <td>entire chunk</td>\n",
       "      <td>This question tests basic recall - directly as...</td>\n",
       "      <td>good</td>\n",
       "      <td>5f858553-f1ec-4828-88df-b6dce5754a75</td>\n",
       "      <td>## Relation-Based Node Parsers</td>\n",
       "      <td>0</td>\n",
       "      <td>{'_node_content': '{\"id_\": \"45e0ab38-6280-4862...</td>\n",
       "    </tr>\n",
       "    <tr>\n",
       "      <th>4</th>\n",
       "      <td>851</td>\n",
       "      <td>45e0ab38-6280-4862-be9f-b57ce7f96492</td>\n",
       "      <td>Based on the title, what kind of parsing are t...</td>\n",
       "      <td>Parsing that involves relationships between no...</td>\n",
       "      <td>inferential</td>\n",
       "      <td>medium</td>\n",
       "      <td>title only</td>\n",
       "      <td>This requires inference – the user has to unde...</td>\n",
       "      <td>good</td>\n",
       "      <td>5f858553-f1ec-4828-88df-b6dce5754a75</td>\n",
       "      <td>## Relation-Based Node Parsers</td>\n",
       "      <td>0</td>\n",
       "      <td>{'_node_content': '{\"id_\": \"45e0ab38-6280-4862...</td>\n",
       "    </tr>\n",
       "  </tbody>\n",
       "</table>\n",
       "</div>"
      ],
      "text/plain": [
       "   idx                                    id  \\\n",
       "0  783  871e39f3-ad80-413d-9353-93b39da8adf5   \n",
       "1  783  871e39f3-ad80-413d-9353-93b39da8adf5   \n",
       "2  783  871e39f3-ad80-413d-9353-93b39da8adf5   \n",
       "3  851  45e0ab38-6280-4862-be9f-b57ce7f96492   \n",
       "4  851  45e0ab38-6280-4862-be9f-b57ce7f96492   \n",
       "\n",
       "                                            question  \\\n",
       "0  What is the primary function of a data connect...   \n",
       "1  According to the document, what are the typica...   \n",
       "2  Explain the overall purpose of using data conn...   \n",
       "3  What is the primary subject matter described i...   \n",
       "4  Based on the title, what kind of parsing are t...   \n",
       "\n",
       "                                              answer question_type difficulty  \\\n",
       "0  A data connector (or 'Reader') ingests data fr...       factual       easy   \n",
       "1  After data ingestion, you can build an Index, ...   inferential     medium   \n",
       "2  The purpose is to take data from various sourc...    analytical       hard   \n",
       "3                        Relation-Based Node Parsers       factual       easy   \n",
       "4  Parsing that involves relationships between no...   inferential     medium   \n",
       "\n",
       "                                    required_context  \\\n",
       "0                 basic understanding of terminology   \n",
       "1                          understanding of workflow   \n",
       "2  understanding of overall system architecture &...   \n",
       "3                                       entire chunk   \n",
       "4                                         title only   \n",
       "\n",
       "                                           reasoning q_a_quality  \\\n",
       "0  This question directly asks for the role of a ...        good   \n",
       "1  This question requires the user to understand ...        good   \n",
       "2  This requires the user to synthesize the infor...        good   \n",
       "3  This question tests basic recall - directly as...        good   \n",
       "4  This requires inference – the user has to unde...        good   \n",
       "\n",
       "                                 doc_id  \\\n",
       "0  aa4c9403-c960-442a-aca3-31ad8ae64f6e   \n",
       "1  aa4c9403-c960-442a-aca3-31ad8ae64f6e   \n",
       "2  aa4c9403-c960-442a-aca3-31ad8ae64f6e   \n",
       "3  5f858553-f1ec-4828-88df-b6dce5754a75   \n",
       "4  5f858553-f1ec-4828-88df-b6dce5754a75   \n",
       "\n",
       "                                                text  cluster_tsne  \\\n",
       "0  ## Concept\\n\\nA data connector (aka `Reader`) ...             0   \n",
       "1  ## Concept\\n\\nA data connector (aka `Reader`) ...             0   \n",
       "2  ## Concept\\n\\nA data connector (aka `Reader`) ...             0   \n",
       "3                     ## Relation-Based Node Parsers             0   \n",
       "4                     ## Relation-Based Node Parsers             0   \n",
       "\n",
       "                                            metadata  \n",
       "0  {'_node_content': '{\"id_\": \"871e39f3-ad80-413d...  \n",
       "1  {'_node_content': '{\"id_\": \"871e39f3-ad80-413d...  \n",
       "2  {'_node_content': '{\"id_\": \"871e39f3-ad80-413d...  \n",
       "3  {'_node_content': '{\"id_\": \"45e0ab38-6280-4862...  \n",
       "4  {'_node_content': '{\"id_\": \"45e0ab38-6280-4862...  "
      ]
     },
     "execution_count": 7,
     "metadata": {},
     "output_type": "execute_result"
    }
   ],
   "source": [
    "chunk_filepath = './data/eval_sampled.parquet'\n",
    "eval_filepath = './data/qa_pairs_gemma.jsonl'\n",
    "df_eval = load_and_prepare_eval_data(chunk_filepath, eval_filepath)\n",
    "df_eval.head()"
   ]
  },
  {
   "cell_type": "markdown",
   "metadata": {},
   "source": [
    "## Setup retrieval"
   ]
  },
  {
   "cell_type": "code",
   "execution_count": 8,
   "metadata": {},
   "outputs": [],
   "source": [
    "from llama_index.core import Settings, VectorStoreIndex\n",
    "from llama_index.embeddings.huggingface import HuggingFaceEmbedding\n",
    "from llama_index.vector_stores.lancedb import LanceDBVectorStore"
   ]
  },
  {
   "cell_type": "code",
   "execution_count": 144,
   "metadata": {},
   "outputs": [],
   "source": [
    "def extract_embeddings(_vec_store: LanceDBVectorStore) -> pd.DataFrame:\n",
    "    tbl = _vec_store._table\n",
    "    # work-around, see: https://github.com/lancedb/lancedb/issues/2046\n",
    "    df = tbl.head(tbl.count_rows()).to_pandas()\n",
    "    return df"
   ]
  },
  {
   "cell_type": "code",
   "execution_count": 9,
   "metadata": {},
   "outputs": [
    {
     "name": "stdout",
     "output_type": "stream",
     "text": [
      "LLM is explicitly disabled. Using MockLLM.\n"
     ]
    }
   ],
   "source": [
    "BGE_MODEL_NAME = \"BAAI/bge-small-en-v1.5\"\n",
    "BGE_SMALL_QUERY_INSTRUCTION = \"Represent this sentence for searching relevant passages:\"\n",
    "Settings.llm = None\n",
    "Settings.context_window = 1e6 # avoids failures from large retrieval context"
   ]
  },
  {
   "cell_type": "code",
   "execution_count": 10,
   "metadata": {},
   "outputs": [],
   "source": [
    "model = HuggingFaceEmbedding(\n",
    "    model_name=BGE_MODEL_NAME,\n",
    "    query_instruction=BGE_SMALL_QUERY_INSTRUCTION,\n",
    "    device=\"cuda\",\n",
    "    cache_folder=\"/home/zak/git/local_rag_course/local_rag/models\",\n",
    ")"
   ]
  },
  {
   "cell_type": "code",
   "execution_count": null,
   "metadata": {},
   "outputs": [],
   "source": [
    "vec_store = LanceDBVectorStore(\n",
    "    uri=\"/home/zak/git/local_rag_course/local_rag/data/lancedb\", \n",
    "    mode=\"overwrite\", \n",
    "    query_type=\"vector\", \n",
    "    refine_factor=30, \n",
    "    nprobes=100,\n",
    ")\n",
    "index = VectorStoreIndex.from_vector_store(vec_store, embed_model=model)\n",
    "query_engine = index.as_query_engine(\n",
    "    similarity_top_k=10,\n",
    ")\n",
    "\n",
    "def get_retrieval_nodes(query: str):\n",
    "    # query the index\n",
    "    response = query_engine.query(query)\n",
    "    # get the nodes from the response\n",
    "    nodes = [n.node.id_ for n in response.source_nodes]\n",
    "    return nodes\n",
    "\n",
    "def evaluate_retrieval(query: str, ground_truth_id: str):\n",
    "    # get the retrieval nodes\n",
    "    nodes = get_retrieval_nodes(query)\n",
    "    # Return the position of the ground truth id in the retrieved nodes (starting from 1)\n",
    "    # If the ground truth id is not in the retrieved nodes, return -1\n",
    "    if ground_truth_id in nodes:\n",
    "        return nodes.index(ground_truth_id) + 1\n",
    "    else:\n",
    "        return -1"
   ]
  },
  {
   "cell_type": "code",
   "execution_count": 100,
   "metadata": {},
   "outputs": [
    {
     "data": {
      "text/plain": [
       "['80c72895-0834-41eb-9a47-674d38bdd5ae',\n",
       " '13f0687b-d595-44fd-addc-c73d82602b07',\n",
       " '6ffc823e-296c-493e-bcdd-7a88d4086c00',\n",
       " 'e5a6ead7-568f-46ab-8f8b-0dbfac1d7b5d',\n",
       " 'cc4c7666-3b59-4026-9d1b-03717affa30d',\n",
       " 'ed52c97e-7636-4f15-9df9-37949022cb94',\n",
       " '1ace0a81-ec18-4e4a-bb74-7bee8577a025',\n",
       " '080487ea-b12e-416a-a237-94a337e4d134',\n",
       " 'ceef134c-c740-412f-a654-e36011548945',\n",
       " '91b9a155-8703-4003-bc68-883df0af93d6']"
      ]
     },
     "execution_count": 100,
     "metadata": {},
     "output_type": "execute_result"
    }
   ],
   "source": [
    "get_retrieval_nodes(\"What is RAG?\")"
   ]
  },
  {
   "cell_type": "code",
   "execution_count": 101,
   "metadata": {},
   "outputs": [
    {
     "data": {
      "text/plain": [
       "2"
      ]
     },
     "execution_count": 101,
     "metadata": {},
     "output_type": "execute_result"
    }
   ],
   "source": [
    "evaluate_retrieval(\n",
    "    query=\"What is RAG?\",\n",
    "    ground_truth_id=\"13f0687b-d595-44fd-addc-c73d82602b07\",\n",
    ")"
   ]
  },
  {
   "cell_type": "code",
   "execution_count": 102,
   "metadata": {},
   "outputs": [
    {
     "data": {
      "text/plain": [
       "-1"
      ]
     },
     "execution_count": 102,
     "metadata": {},
     "output_type": "execute_result"
    }
   ],
   "source": [
    "evaluate_retrieval(\n",
    "    query=\"What is RAG?\",\n",
    "    ground_truth_id=\"abc\",\n",
    ")"
   ]
  },
  {
   "cell_type": "markdown",
   "metadata": {},
   "source": [
    "## Eval real data"
   ]
  },
  {
   "cell_type": "code",
   "execution_count": 103,
   "metadata": {},
   "outputs": [
    {
     "data": {
      "text/html": [
       "<div>\n",
       "<style scoped>\n",
       "    .dataframe tbody tr th:only-of-type {\n",
       "        vertical-align: middle;\n",
       "    }\n",
       "\n",
       "    .dataframe tbody tr th {\n",
       "        vertical-align: top;\n",
       "    }\n",
       "\n",
       "    .dataframe thead th {\n",
       "        text-align: right;\n",
       "    }\n",
       "</style>\n",
       "<table border=\"1\" class=\"dataframe\">\n",
       "  <thead>\n",
       "    <tr style=\"text-align: right;\">\n",
       "      <th></th>\n",
       "      <th>idx</th>\n",
       "      <th>id</th>\n",
       "      <th>question</th>\n",
       "      <th>answer</th>\n",
       "      <th>question_type</th>\n",
       "      <th>difficulty</th>\n",
       "      <th>required_context</th>\n",
       "      <th>reasoning</th>\n",
       "      <th>q_a_quality</th>\n",
       "      <th>doc_id</th>\n",
       "      <th>text</th>\n",
       "      <th>cluster_tsne</th>\n",
       "      <th>metadata</th>\n",
       "    </tr>\n",
       "  </thead>\n",
       "  <tbody>\n",
       "    <tr>\n",
       "      <th>0</th>\n",
       "      <td>783</td>\n",
       "      <td>871e39f3-ad80-413d-9353-93b39da8adf5</td>\n",
       "      <td>What is the primary function of a data connect...</td>\n",
       "      <td>A data connector (or 'Reader') ingests data fr...</td>\n",
       "      <td>factual</td>\n",
       "      <td>easy</td>\n",
       "      <td>basic understanding of terminology</td>\n",
       "      <td>This question directly asks for the role of a ...</td>\n",
       "      <td>good</td>\n",
       "      <td>aa4c9403-c960-442a-aca3-31ad8ae64f6e</td>\n",
       "      <td>## Concept\\n\\nA data connector (aka `Reader`) ...</td>\n",
       "      <td>0</td>\n",
       "      <td>{'_node_content': '{\"id_\": \"871e39f3-ad80-413d...</td>\n",
       "    </tr>\n",
       "    <tr>\n",
       "      <th>1</th>\n",
       "      <td>783</td>\n",
       "      <td>871e39f3-ad80-413d-9353-93b39da8adf5</td>\n",
       "      <td>According to the document, what are the typica...</td>\n",
       "      <td>After data ingestion, you can build an Index, ...</td>\n",
       "      <td>inferential</td>\n",
       "      <td>medium</td>\n",
       "      <td>understanding of workflow</td>\n",
       "      <td>This question requires the user to understand ...</td>\n",
       "      <td>good</td>\n",
       "      <td>aa4c9403-c960-442a-aca3-31ad8ae64f6e</td>\n",
       "      <td>## Concept\\n\\nA data connector (aka `Reader`) ...</td>\n",
       "      <td>0</td>\n",
       "      <td>{'_node_content': '{\"id_\": \"871e39f3-ad80-413d...</td>\n",
       "    </tr>\n",
       "    <tr>\n",
       "      <th>2</th>\n",
       "      <td>783</td>\n",
       "      <td>871e39f3-ad80-413d-9353-93b39da8adf5</td>\n",
       "      <td>Explain the overall purpose of using data conn...</td>\n",
       "      <td>The purpose is to take data from various sourc...</td>\n",
       "      <td>analytical</td>\n",
       "      <td>hard</td>\n",
       "      <td>understanding of overall system architecture &amp;...</td>\n",
       "      <td>This requires the user to synthesize the infor...</td>\n",
       "      <td>good</td>\n",
       "      <td>aa4c9403-c960-442a-aca3-31ad8ae64f6e</td>\n",
       "      <td>## Concept\\n\\nA data connector (aka `Reader`) ...</td>\n",
       "      <td>0</td>\n",
       "      <td>{'_node_content': '{\"id_\": \"871e39f3-ad80-413d...</td>\n",
       "    </tr>\n",
       "    <tr>\n",
       "      <th>3</th>\n",
       "      <td>851</td>\n",
       "      <td>45e0ab38-6280-4862-be9f-b57ce7f96492</td>\n",
       "      <td>What is the primary subject matter described i...</td>\n",
       "      <td>Relation-Based Node Parsers</td>\n",
       "      <td>factual</td>\n",
       "      <td>easy</td>\n",
       "      <td>entire chunk</td>\n",
       "      <td>This question tests basic recall - directly as...</td>\n",
       "      <td>good</td>\n",
       "      <td>5f858553-f1ec-4828-88df-b6dce5754a75</td>\n",
       "      <td>## Relation-Based Node Parsers</td>\n",
       "      <td>0</td>\n",
       "      <td>{'_node_content': '{\"id_\": \"45e0ab38-6280-4862...</td>\n",
       "    </tr>\n",
       "    <tr>\n",
       "      <th>4</th>\n",
       "      <td>851</td>\n",
       "      <td>45e0ab38-6280-4862-be9f-b57ce7f96492</td>\n",
       "      <td>Based on the title, what kind of parsing are t...</td>\n",
       "      <td>Parsing that involves relationships between no...</td>\n",
       "      <td>inferential</td>\n",
       "      <td>medium</td>\n",
       "      <td>title only</td>\n",
       "      <td>This requires inference – the user has to unde...</td>\n",
       "      <td>good</td>\n",
       "      <td>5f858553-f1ec-4828-88df-b6dce5754a75</td>\n",
       "      <td>## Relation-Based Node Parsers</td>\n",
       "      <td>0</td>\n",
       "      <td>{'_node_content': '{\"id_\": \"45e0ab38-6280-4862...</td>\n",
       "    </tr>\n",
       "  </tbody>\n",
       "</table>\n",
       "</div>"
      ],
      "text/plain": [
       "   idx                                    id  \\\n",
       "0  783  871e39f3-ad80-413d-9353-93b39da8adf5   \n",
       "1  783  871e39f3-ad80-413d-9353-93b39da8adf5   \n",
       "2  783  871e39f3-ad80-413d-9353-93b39da8adf5   \n",
       "3  851  45e0ab38-6280-4862-be9f-b57ce7f96492   \n",
       "4  851  45e0ab38-6280-4862-be9f-b57ce7f96492   \n",
       "\n",
       "                                            question  \\\n",
       "0  What is the primary function of a data connect...   \n",
       "1  According to the document, what are the typica...   \n",
       "2  Explain the overall purpose of using data conn...   \n",
       "3  What is the primary subject matter described i...   \n",
       "4  Based on the title, what kind of parsing are t...   \n",
       "\n",
       "                                              answer question_type difficulty  \\\n",
       "0  A data connector (or 'Reader') ingests data fr...       factual       easy   \n",
       "1  After data ingestion, you can build an Index, ...   inferential     medium   \n",
       "2  The purpose is to take data from various sourc...    analytical       hard   \n",
       "3                        Relation-Based Node Parsers       factual       easy   \n",
       "4  Parsing that involves relationships between no...   inferential     medium   \n",
       "\n",
       "                                    required_context  \\\n",
       "0                 basic understanding of terminology   \n",
       "1                          understanding of workflow   \n",
       "2  understanding of overall system architecture &...   \n",
       "3                                       entire chunk   \n",
       "4                                         title only   \n",
       "\n",
       "                                           reasoning q_a_quality  \\\n",
       "0  This question directly asks for the role of a ...        good   \n",
       "1  This question requires the user to understand ...        good   \n",
       "2  This requires the user to synthesize the infor...        good   \n",
       "3  This question tests basic recall - directly as...        good   \n",
       "4  This requires inference – the user has to unde...        good   \n",
       "\n",
       "                                 doc_id  \\\n",
       "0  aa4c9403-c960-442a-aca3-31ad8ae64f6e   \n",
       "1  aa4c9403-c960-442a-aca3-31ad8ae64f6e   \n",
       "2  aa4c9403-c960-442a-aca3-31ad8ae64f6e   \n",
       "3  5f858553-f1ec-4828-88df-b6dce5754a75   \n",
       "4  5f858553-f1ec-4828-88df-b6dce5754a75   \n",
       "\n",
       "                                                text  cluster_tsne  \\\n",
       "0  ## Concept\\n\\nA data connector (aka `Reader`) ...             0   \n",
       "1  ## Concept\\n\\nA data connector (aka `Reader`) ...             0   \n",
       "2  ## Concept\\n\\nA data connector (aka `Reader`) ...             0   \n",
       "3                     ## Relation-Based Node Parsers             0   \n",
       "4                     ## Relation-Based Node Parsers             0   \n",
       "\n",
       "                                            metadata  \n",
       "0  {'_node_content': '{\"id_\": \"871e39f3-ad80-413d...  \n",
       "1  {'_node_content': '{\"id_\": \"871e39f3-ad80-413d...  \n",
       "2  {'_node_content': '{\"id_\": \"871e39f3-ad80-413d...  \n",
       "3  {'_node_content': '{\"id_\": \"45e0ab38-6280-4862...  \n",
       "4  {'_node_content': '{\"id_\": \"45e0ab38-6280-4862...  "
      ]
     },
     "execution_count": 103,
     "metadata": {},
     "output_type": "execute_result"
    }
   ],
   "source": [
    "df_eval.head()"
   ]
  },
  {
   "cell_type": "markdown",
   "metadata": {},
   "source": [
    "### Example"
   ]
  },
  {
   "cell_type": "code",
   "execution_count": 104,
   "metadata": {},
   "outputs": [],
   "source": [
    "idx = 0"
   ]
  },
  {
   "cell_type": "code",
   "execution_count": 105,
   "metadata": {},
   "outputs": [
    {
     "name": "stdout",
     "output_type": "stream",
     "text": [
      "Query: What is the primary function of a data connector (or 'Reader') within this system?\n",
      "ID: 871e39f3-ad80-413d-9353-93b39da8adf5\n"
     ]
    }
   ],
   "source": [
    "q, id_ = df_eval.iloc[idx][['question', 'id']]\n",
    "print(f\"Query: {q}\")\n",
    "print(f\"ID: {id_}\")"
   ]
  },
  {
   "cell_type": "code",
   "execution_count": 106,
   "metadata": {},
   "outputs": [
    {
     "data": {
      "text/plain": [
       "['871e39f3-ad80-413d-9353-93b39da8adf5',\n",
       " '44761715-4c57-4203-9278-c6b2b8ca0008',\n",
       " '2423b15e-5155-4515-a2c3-a2eec50f8332',\n",
       " '7a951bb8-3331-4326-96f5-24ec966a1790',\n",
       " 'b7ada485-7d5f-40c0-862d-b70ae2159c20',\n",
       " '53569803-d911-4ec7-8082-367a6fb319d2',\n",
       " '4a97fd4d-c4a0-4d00-98a7-6d8b91599bb4',\n",
       " '2099296d-59e4-44ba-a38c-93d9e0606aaa',\n",
       " 'fe96677f-cd36-4c0e-9c51-0ec3460757ab',\n",
       " '38a289b3-1b7a-4b14-9c6b-019549286129']"
      ]
     },
     "execution_count": 106,
     "metadata": {},
     "output_type": "execute_result"
    }
   ],
   "source": [
    "get_retrieval_nodes(q)"
   ]
  },
  {
   "cell_type": "code",
   "execution_count": 107,
   "metadata": {},
   "outputs": [
    {
     "data": {
      "text/plain": [
       "1"
      ]
     },
     "execution_count": 107,
     "metadata": {},
     "output_type": "execute_result"
    }
   ],
   "source": [
    "evaluate_retrieval(query=q, ground_truth_id=id_)"
   ]
  },
  {
   "cell_type": "markdown",
   "metadata": {},
   "source": [
    "### Eval full dataset"
   ]
  },
  {
   "cell_type": "code",
   "execution_count": 137,
   "metadata": {},
   "outputs": [],
   "source": [
    "results = list()\n",
    "for _, row in df_eval.iterrows():\n",
    "    q, id_ = row[['question', 'id']]\n",
    "    rank = evaluate_retrieval(\n",
    "        query=q, \n",
    "        ground_truth_id=id_\n",
    "    )\n",
    "    results.append(rank)"
   ]
  },
  {
   "cell_type": "code",
   "execution_count": 138,
   "metadata": {},
   "outputs": [],
   "source": [
    "df_eval['rank'] = results"
   ]
  },
  {
   "cell_type": "markdown",
   "metadata": {},
   "source": [
    "### Analysis"
   ]
  },
  {
   "cell_type": "code",
   "execution_count": 159,
   "metadata": {},
   "outputs": [],
   "source": [
    "import matplotlib.pyplot as plt\n",
    "%matplotlib inline\n",
    "import numpy as np\n",
    "from sklearn.manifold import TSNE"
   ]
  },
  {
   "cell_type": "code",
   "execution_count": 145,
   "metadata": {},
   "outputs": [],
   "source": [
    "df = extract_embeddings(vec_store)"
   ]
  },
  {
   "cell_type": "code",
   "execution_count": 173,
   "metadata": {},
   "outputs": [
    {
     "data": {
      "text/plain": [
       "(1572, 384)"
      ]
     },
     "execution_count": 173,
     "metadata": {},
     "output_type": "execute_result"
    }
   ],
   "source": [
    "X = np.vstack(df['vector'].values)\n",
    "X.shape"
   ]
  },
  {
   "cell_type": "code",
   "execution_count": 174,
   "metadata": {},
   "outputs": [
    {
     "data": {
      "text/plain": [
       "(1572, 2)"
      ]
     },
     "execution_count": 174,
     "metadata": {},
     "output_type": "execute_result"
    }
   ],
   "source": [
    "X_tsne = TSNE().fit_transform(X)\n",
    "X_tsne.shape"
   ]
  },
  {
   "cell_type": "code",
   "execution_count": 141,
   "metadata": {},
   "outputs": [
    {
     "data": {
      "image/png": "[encoded data removed]",
      "text/plain": [
       "<Figure size 640x480 with 1 Axes>"
      ]
     },
     "metadata": {},
     "output_type": "display_data"
    }
   ],
   "source": [
    "fig, ax = plt.subplots()\n",
    "_ = ax.hist(df_eval['rank'], bins=11, color='blue', alpha=0.7)"
   ]
  },
  {
   "cell_type": "code",
   "execution_count": 178,
   "metadata": {},
   "outputs": [],
   "source": [
    "# group by id and get median rank \n",
    "id2rank = df_eval.groupby('id')['rank'].median().to_dict()"
   ]
  },
  {
   "cell_type": "code",
   "execution_count": 210,
   "metadata": {},
   "outputs": [],
   "source": [
    "ranks = np.array([id2rank.get(id_, np.nan) for id_ in df['id']])"
   ]
  },
  {
   "cell_type": "code",
   "execution_count": 242,
   "metadata": {},
   "outputs": [
    {
     "data": {
      "text/plain": [
       "array([ 1., -1.,  1., -1.,  1.,  1.,  1., -1.,  1., -1.,  1., -1.,  1.,\n",
       "        1.,  1., -1., -1., -1., -1., -1., -1., -1.,  3., -1.,  1., -1.,\n",
       "       -1., 10.,  1.,  1., -1.,  3.,  1., -1.,  2., -1., -1., -1.,  2.,\n",
       "        1.,  1.,  1., -1., -1.,  1.,  1.,  1.,  1.,  1.,  1., -1., -1.,\n",
       "        1.,  3.,  1., -1., -1.,  2.,  1.,  5.,  2.,  1.,  1., -1., -1.,\n",
       "       -1.,  2.,  1., -1.,  1.,  5.,  1.,  2., -1., -1.,  1.,  3.,  4.,\n",
       "        6.,  1.,  2.,  2.,  2.,  1., -1.,  1., -1.,  1., -1.,  1., -1.,\n",
       "        1.,  3.,  2., -1.,  1.,  2.,  1.,  1.,  1.,  7.,  3.,  2.,  1.,\n",
       "        1.,  2.,  4., -1.,  1.,  1.,  1., -1.,  2.,  1.,  1.,  1.,  1.,\n",
       "       10.,  1.,  1.,  1.,  1.,  2.,  2.,  2.,  4.,  1.,  1., -1.,  3.,\n",
       "        1.,  2.,  2.,  3.,  1.,  1., -1.,  2.,  2.,  3., -1., -1.,  2.,\n",
       "       -1.,  1.,  1.,  1.,  1.,  2.,  2., -1.,  4.,  1.,  3.,  2.,  5.,\n",
       "        1.,  5., -1.,  3.,  1.,  1., -1.,  3.,  1.,  1.,  3.,  1.,  1.,\n",
       "        1.,  2.,  1.,  2.,  1., -1.,  3.,  1., -1.,  1.,  5.,  8., -1.,\n",
       "        1.,  2.,  2.,  2.,  1., -1.,  1., -1.,  1.,  4.,  1., -1.,  2.,\n",
       "       -1.,  1., -1.,  1., -1.])"
      ]
     },
     "execution_count": 242,
     "metadata": {},
     "output_type": "execute_result"
    }
   ],
   "source": [
    "ranks[~np.isnan(ranks)]"
   ]
  },
  {
   "cell_type": "code",
   "execution_count": 245,
   "metadata": {},
   "outputs": [],
   "source": [
    "# create bins: <0, 0-3, 4-10\n",
    "bins = np.array([0, 3])\n",
    "# apply bins to ranks\n",
    "c = np.digitize(ranks, bins)\n",
    "cmap = {0: 'red', 1: 'blue', 2: 'yellow'}\n",
    "c_str = np.array([cmap.get(i, 'black') for i in c])"
   ]
  },
  {
   "cell_type": "code",
   "execution_count": 246,
   "metadata": {},
   "outputs": [
    {
     "data": {
      "image/png": "[encoded data removed]",
      "text/plain": [
       "<Figure size 1000x1000 with 1 Axes>"
      ]
     },
     "metadata": {},
     "output_type": "display_data"
    }
   ],
   "source": [
    "# plot embeddings, color-coded by median rank\n",
    "fig, ax = plt.subplots(figsize=(10,10))\n",
    "colored = ~np.isnan(ranks)\n",
    "not_colored = np.setdiff1d(np.arange(len(X)), colored)\n",
    "kwargs = dict(s=5, alpha=0.7)\n",
    "ax.scatter(\n",
    "    X_tsne[not_colored, 0], \n",
    "    X_tsne[not_colored, 1], \n",
    "    c='gray',\n",
    "    **kwargs\n",
    ")\n",
    "ax.scatter(\n",
    "    X_tsne[colored, 0], \n",
    "    X_tsne[colored, 1], \n",
    "    c=c_str[colored], \n",
    "    **kwargs\n",
    ")\n",
    "ax.grid()"
   ]
  },
  {
   "cell_type": "code",
   "execution_count": 142,
   "metadata": {},
   "outputs": [
    {
     "data": {
      "text/plain": [
       "cluster_tsne\n",
       "2     20\n",
       "17    20\n",
       "0     19\n",
       "16    18\n",
       "15    15\n",
       "3     12\n",
       "9     12\n",
       "12    10\n",
       "18     9\n",
       "6      9\n",
       "4      8\n",
       "1      6\n",
       "5      6\n",
       "11     6\n",
       "7      5\n",
       "14     5\n",
       "8      4\n",
       "10     3\n",
       "13     3\n",
       "19     3\n",
       "Name: rank, dtype: int64"
      ]
     },
     "execution_count": 142,
     "metadata": {},
     "output_type": "execute_result"
    }
   ],
   "source": [
    "df_eval.groupby('cluster_tsne')['rank'].apply(lambda x: (x == -1).sum()).sort_values(ascending=False)"
   ]
  },
  {
   "cell_type": "code",
   "execution_count": 132,
   "metadata": {},
   "outputs": [
    {
     "data": {
      "text/plain": [
       "[{'text': '::: llama_index.core.retrievers\\n    options:\\n      members:\\n        - RecursiveRetriever',\n",
       "  'question': 'What is the name of the retriever mentioned in this documentation?',\n",
       "  'answer': 'RecursiveRetriever'},\n",
       " {'text': '::: llama_index.readers.llama_parse\\n    options:\\n      members:\\n        - LlamaParse',\n",
       "  'question': 'What is the name of the class found within the `llama_index.readers` module?',\n",
       "  'answer': 'The class is called `LlamaParse`.'},\n",
       " {'text': '::: llama_index.tools.azure_code_interpreter\\n    options:\\n      members:\\n        - AzureCodeInterpreterToolSpec',\n",
       "  'question': 'If you were designing a system that utilized code interpreter tools, what potential design considerations might arise from the existence of tools like `AzureCodeInterpreterToolSpec`?',\n",
       "  'answer': 'The existence of tools like `AzureCodeInterpreterToolSpec` suggests a need for careful management of code execution environments, security considerations for code running in Azure, and potentially mechanisms for version control and dependency management for the interpreted code. It also implies that the system needs a way to define and pass code snippets to the Azure Code Interpreter.'},\n",
       " {'text': '::: llama_index.readers.llama_parse\\n    options:\\n      members:\\n        - LlamaParse',\n",
       "  'question': 'Why might someone be looking at this documentation?',\n",
       "  'answer': 'Someone might be interested in understanding how parsing is handled within the LlamaIndex framework, specifically when using the `LlamaParse` class for parsing data.'},\n",
       " {'text': '::: llama_index.tools.elevenlabs\\n    options:\\n      members:\\n        - ElevenLabsToolSpec',\n",
       "  'question': 'Based on this documentation, what can you infer about the role of `llama_index` in relation to ElevenLabs?',\n",
       "  'answer': '`llama_index` provides tools and/or integration capabilities to work with ElevenLabs.'}]"
      ]
     },
     "execution_count": 132,
     "metadata": {},
     "output_type": "execute_result"
    }
   ],
   "source": [
    "df_eval.query(\"cluster_tsne == 2\").sample(\n",
    "    5, random_state=42\n",
    ")[['text', 'question', 'answer']].to_dict(orient='records')"
   ]
  },
  {
   "cell_type": "code",
   "execution_count": 247,
   "metadata": {},
   "outputs": [
    {
     "data": {
      "text/plain": [
       "cluster_tsne\n",
       "16    4.166667\n",
       "0     3.363636\n",
       "4     3.227273\n",
       "10    3.148148\n",
       "9     3.111111\n",
       "15    2.933333\n",
       "6     2.761905\n",
       "11    2.750000\n",
       "17    2.600000\n",
       "13    2.555556\n",
       "14    2.520000\n",
       "2     2.500000\n",
       "5     2.458333\n",
       "19    2.444444\n",
       "3     2.333333\n",
       "1     2.333333\n",
       "7     2.240000\n",
       "8     2.115385\n",
       "12    1.900000\n",
       "18    1.809524\n",
       "Name: rank, dtype: float64"
      ]
     },
     "execution_count": 247,
     "metadata": {},
     "output_type": "execute_result"
    }
   ],
   "source": [
    "# Ignoring -1s, what's the mean rank for each cluster?\n",
    "df_eval.query('rank > 0').groupby('cluster_tsne')['rank'].mean().sort_values(ascending=False)#.head(10)"
   ]
  },
  {
   "cell_type": "code",
   "execution_count": 248,
   "metadata": {},
   "outputs": [
    {
     "data": {
      "text/plain": [
       "question_type\n",
       "analytical     2.602564\n",
       "factual        2.570093\n",
       "inferential    2.669565\n",
       "Name: rank, dtype: float64"
      ]
     },
     "execution_count": 248,
     "metadata": {},
     "output_type": "execute_result"
    }
   ],
   "source": [
    "df_eval.query('rank > 0').groupby('question_type')['rank'].mean()"
   ]
  },
  {
   "cell_type": "code",
   "execution_count": 249,
   "metadata": {},
   "outputs": [
    {
     "data": {
      "text/plain": [
       "difficulty\n",
       "easy      2.479167\n",
       "hard      2.597701\n",
       "medium    2.710227\n",
       "Name: rank, dtype: float64"
      ]
     },
     "execution_count": 249,
     "metadata": {},
     "output_type": "execute_result"
    }
   ],
   "source": [
    "df_eval.query('rank > 0').groupby('difficulty')['rank'].mean()"
   ]
  },
  {
   "cell_type": "code",
   "execution_count": null,
   "metadata": {},
   "outputs": [],
   "source": []
  }
 ],
 "metadata": {
  "kernelspec": {
   "display_name": "local_rag",
   "language": "python",
   "name": "python3"
  },
  "language_info": {
   "codemirror_mode": {
    "name": "ipython",
    "version": 3
   },
   "file_extension": ".py",
   "mimetype": "text/x-python",
   "name": "python",
   "nbconvert_exporter": "python",
   "pygments_lexer": "ipython3",
   "version": "3.10.12"
  }
 },
 "nbformat": 4,
 "nbformat_minor": 2
}
